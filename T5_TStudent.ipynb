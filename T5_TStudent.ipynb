{
 "cells": [
  {
   "cell_type": "markdown",
   "metadata": {},
   "source": [
    "# T5: Distribucion T-Student"
   ]
  },
  {
   "cell_type": "code",
   "execution_count": 6,
   "metadata": {},
   "outputs": [],
   "source": [
    "import numpy as np\n",
    "import matplotlib.pyplot as plt\n",
    "from scipy.stats import t,  norm\n",
    "from ipywidgets import interact, IntSlider"
   ]
  },
  {
   "cell_type": "code",
   "execution_count": 7,
   "metadata": {},
   "outputs": [
    {
     "data": {
      "application/vnd.jupyter.widget-view+json": {
       "model_id": "967070f681554f47bded6cdde9421622",
       "version_major": 2,
       "version_minor": 0
      },
      "text/plain": [
       "interactive(children=(IntSlider(value=1, description='Grados de libertad', max=50, min=1), Output()), _dom_cla…"
      ]
     },
     "metadata": {},
     "output_type": "display_data"
    },
    {
     "data": {
      "text/plain": [
       "<function __main__.plot_t_student_density(n)>"
      ]
     },
     "execution_count": 7,
     "metadata": {},
     "output_type": "execute_result"
    }
   ],
   "source": [
    "def plot_t_student_density(n):\n",
    "    if n <= 0:\n",
    "        print(\"El valor de 'n' debe ser mayor que 0.\")\n",
    "        return\n",
    "    \n",
    "    x = np.linspace(-5, 5, 1000)\n",
    "    y_t = t.pdf(x, df=n)\n",
    "    y_norm = norm.pdf(x, loc=0, scale=1)\n",
    "    \n",
    "    plt.figure(figsize=(10, 6))\n",
    "    plt.plot(x, y_t, label=f'T-Student Distribution Density\\n$n={n}$')\n",
    "    plt.fill_between(x, y_t, alpha=0.2)\n",
    "    plt.plot(x, y_norm, 'r--', label='Normal Distribution Density\\n$\\\\mu=0, \\\\sigma=1$')\n",
    "    plt.title('T-Student Distribution Density Function')\n",
    "    plt.xlabel('x')\n",
    "    plt.ylabel('Density')\n",
    "    plt.ylim(0, max(max(y_t), max(y_norm)) + 0.05)\n",
    "    plt.legend()\n",
    "    plt.grid(True)\n",
    "    plt.show()\n",
    "\n",
    "n_slider = IntSlider(value=1, min=1, max=50, step=1, description='Grados de libertad')\n",
    "\n",
    "interact(plot_t_student_density, n=n_slider)"
   ]
  }
 ],
 "metadata": {
  "kernelspec": {
   "display_name": "base",
   "language": "python",
   "name": "python3"
  },
  "language_info": {
   "codemirror_mode": {
    "name": "ipython",
    "version": 3
   },
   "file_extension": ".py",
   "mimetype": "text/x-python",
   "name": "python",
   "nbconvert_exporter": "python",
   "pygments_lexer": "ipython3",
   "version": "3.9.1"
  }
 },
 "nbformat": 4,
 "nbformat_minor": 2
}
