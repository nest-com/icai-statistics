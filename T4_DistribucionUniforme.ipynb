{
 "cells": [
  {
   "cell_type": "markdown",
   "metadata": {},
   "source": [
    "# T4: Distribución continua uniforme"
   ]
  },
  {
   "cell_type": "code",
   "execution_count": 2,
   "metadata": {},
   "outputs": [],
   "source": [
    "import numpy as np\n",
    "import matplotlib.pyplot as plt\n",
    "from ipywidgets import interact, FloatSlider"
   ]
  },
  {
   "cell_type": "markdown",
   "metadata": {},
   "source": [
    "La **función de densidad**, $f_{X}(x)$=$\\frac{1}{b-a}$ si $a\\leq x\\leq b$"
   ]
  },
  {
   "cell_type": "code",
   "execution_count": 1,
   "metadata": {},
   "outputs": [
    {
     "data": {
      "application/vnd.jupyter.widget-view+json": {
       "model_id": "f5337a7232e849f6ac9e0bda09d233d3",
       "version_major": 2,
       "version_minor": 0
      },
      "text/plain": [
       "interactive(children=(FloatSlider(value=0.0, description='a', max=10.0, min=-10.0), FloatSlider(value=1.0, des…"
      ]
     },
     "metadata": {},
     "output_type": "display_data"
    },
    {
     "data": {
      "text/plain": [
       "<function __main__.plot_uniform_density(a, b)>"
      ]
     },
     "execution_count": 1,
     "metadata": {},
     "output_type": "execute_result"
    }
   ],
   "source": [
    "\n",
    "def plot_uniform_density(a, b):\n",
    "    if a >= b:\n",
    "        print(\"El valor de 'a' debe ser menor que el valor de 'b'.\")\n",
    "        return\n",
    "    \n",
    "    x = np.linspace(a - 1, b + 1, 1000)\n",
    "    y = np.where((x >= a) & (x <= b), 1 / (b - a), 0)\n",
    "    \n",
    "    plt.figure(figsize=(10, 6))\n",
    "    plt.plot(x, y, label=f'Uniform Distribution Density\\n$a={a}, b={b}$')\n",
    "    plt.fill_between(x, y, alpha=0.2)\n",
    "    plt.title('Uniform Distribution Density Function')\n",
    "    plt.xlabel('x')\n",
    "    plt.ylabel('Density')\n",
    "    plt.ylim(0, 1.2 * max(y))\n",
    "    plt.legend()\n",
    "    plt.grid(True)\n",
    "    plt.show()\n",
    "\n",
    "a_slider = FloatSlider(value=0.0, min=-10.0, max=10.0, step=0.1, description='a')\n",
    "b_slider = FloatSlider(value=1.0, min=-10.0, max=10.0, step=0.1, description='b')\n",
    "\n",
    "interact(plot_uniform_density, a=a_slider, b=b_slider)"
   ]
  },
  {
   "cell_type": "markdown",
   "metadata": {},
   "source": [
    "La **función de distribución**, $F_{X}(x)=\\frac{x-a}{b-a}$ si $a\\leq x\\leq b$"
   ]
  },
  {
   "cell_type": "code",
   "execution_count": 3,
   "metadata": {},
   "outputs": [
    {
     "data": {
      "application/vnd.jupyter.widget-view+json": {
       "model_id": "2a0ea0ee3c474378aa7e84960d7a294d",
       "version_major": 2,
       "version_minor": 0
      },
      "text/plain": [
       "interactive(children=(FloatSlider(value=0.0, description='a', max=10.0, min=-10.0), FloatSlider(value=1.0, des…"
      ]
     },
     "metadata": {},
     "output_type": "display_data"
    },
    {
     "data": {
      "text/plain": [
       "<function __main__.plot_uniform_cdf(a, b)>"
      ]
     },
     "execution_count": 3,
     "metadata": {},
     "output_type": "execute_result"
    }
   ],
   "source": [
    "def plot_uniform_cdf(a, b):\n",
    "    if a >= b:\n",
    "        print(\"El valor de 'a' debe ser menor que el valor de 'b'.\")\n",
    "        return\n",
    "    \n",
    "    x = np.linspace(a - 1, b + 1, 1000)\n",
    "    y = np.piecewise(x, [x < a, (x >= a) & (x <= b), x > b], [0, lambda x: (x - a) / (b - a), 1])\n",
    "    \n",
    "    plt.figure(figsize=(10, 6))\n",
    "    plt.plot(x, y, label=f'Uniform Distribution CDF\\n$a={a}, b={b}$')\n",
    "    plt.title('Uniform Distribution Cumulative Distribution Function')\n",
    "    plt.xlabel('x')\n",
    "    plt.ylabel('CDF')\n",
    "    plt.ylim(0, 1.2)\n",
    "    plt.legend()\n",
    "    plt.grid(True)\n",
    "    plt.show()\n",
    "\n",
    "a_slider = FloatSlider(value=0.0, min=-10.0, max=10.0, step=0.1, description='a')\n",
    "b_slider = FloatSlider(value=1.0, min=-10.0, max=10.0, step=0.1, description='b')\n",
    "\n",
    "interact(plot_uniform_cdf, a=a_slider, b=b_slider)"
   ]
  }
 ],
 "metadata": {
  "kernelspec": {
   "display_name": "base",
   "language": "python",
   "name": "python3"
  },
  "language_info": {
   "codemirror_mode": {
    "name": "ipython",
    "version": 3
   },
   "file_extension": ".py",
   "mimetype": "text/x-python",
   "name": "python",
   "nbconvert_exporter": "python",
   "pygments_lexer": "ipython3",
   "version": "3.9.1"
  }
 },
 "nbformat": 4,
 "nbformat_minor": 2
}
