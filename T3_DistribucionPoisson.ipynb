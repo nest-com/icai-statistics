{
 "cells": [
  {
   "cell_type": "markdown",
   "metadata": {},
   "source": [
    "# T3: Distribución de Poisson"
   ]
  },
  {
   "cell_type": "code",
   "execution_count": 4,
   "metadata": {},
   "outputs": [],
   "source": [
    "import numpy as np\n",
    "import matplotlib.pyplot as plt\n",
    "from scipy.stats import poisson\n",
    "from ipywidgets import interact, IntSlider"
   ]
  },
  {
   "cell_type": "markdown",
   "metadata": {},
   "source": [
    "La función de probabilidad de una distribución de Poisson es:\n",
    "\n",
    "$P\\left[X=i\\right]=e^{-\\lambda}\\frac{\\lambda^{i}}{i!},\\hspace{0.1cm} i=0,1,2,...$"
   ]
  },
  {
   "cell_type": "code",
   "execution_count": 6,
   "metadata": {},
   "outputs": [
    {
     "data": {
      "application/vnd.jupyter.widget-view+json": {
       "model_id": "b5d22570888341ddbc247666f9b1fe27",
       "version_major": 2,
       "version_minor": 0
      },
      "text/plain": [
       "interactive(children=(IntSlider(value=1, description='λ', max=10, min=1), Output()), _dom_classes=('widget-int…"
      ]
     },
     "metadata": {},
     "output_type": "display_data"
    },
    {
     "data": {
      "text/plain": [
       "<function __main__.plot_poisson(lambda_val)>"
      ]
     },
     "execution_count": 6,
     "metadata": {},
     "output_type": "execute_result"
    }
   ],
   "source": [
    "# Función para actualizar la gráfica\n",
    "def plot_poisson(lambda_val):\n",
    "    x = np.arange(0, 20)  # Valores discretos de X\n",
    "    y = poisson.pmf(x, lambda_val)\n",
    "    \n",
    "    plt.figure(figsize=(10, 6))\n",
    "    plt.bar(x, y, color='blue', alpha=0.7)\n",
    "    plt.title(f'Distribución de Poisson (λ = {lambda_val})')\n",
    "    plt.xlabel('Número de eventos')\n",
    "    plt.ylabel('Probabilidad')\n",
    "    plt.ylim(0, max(y) + 0.05)\n",
    "    plt.grid(True)\n",
    "    plt.show()\n",
    "\n",
    "# Crear el slider para lambda con valores discretos\n",
    "lambda_slider = IntSlider(value=1, min=1, max=10, step=1, description='λ')\n",
    "\n",
    "# Usar interact para actualizar la gráfica automáticamente\n",
    "interact(plot_poisson, lambda_val=lambda_slider)"
   ]
  }
 ],
 "metadata": {
  "kernelspec": {
   "display_name": "base",
   "language": "python",
   "name": "python3"
  },
  "language_info": {
   "codemirror_mode": {
    "name": "ipython",
    "version": 3
   },
   "file_extension": ".py",
   "mimetype": "text/x-python",
   "name": "python",
   "nbconvert_exporter": "python",
   "pygments_lexer": "ipython3",
   "version": "3.9.1"
  }
 },
 "nbformat": 4,
 "nbformat_minor": 2
}
