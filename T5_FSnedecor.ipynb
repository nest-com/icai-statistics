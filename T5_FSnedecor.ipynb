{
 "cells": [
  {
   "cell_type": "markdown",
   "metadata": {},
   "source": [
    "# T5: Distribucion F de Snedecor"
   ]
  },
  {
   "cell_type": "code",
   "execution_count": 3,
   "metadata": {},
   "outputs": [],
   "source": [
    "import numpy as np\n",
    "import matplotlib.pyplot as plt\n",
    "from scipy.stats import f\n",
    "from ipywidgets import interact, IntSlider"
   ]
  },
  {
   "cell_type": "code",
   "execution_count": 6,
   "metadata": {},
   "outputs": [
    {
     "data": {
      "application/vnd.jupyter.widget-view+json": {
       "model_id": "dddf05b15bef470e8bb8b05cdf8c1971",
       "version_major": 2,
       "version_minor": 0
      },
      "text/plain": [
       "interactive(children=(IntSlider(value=10, description='Grados de libertad n', max=70, min=10), IntSlider(value…"
      ]
     },
     "metadata": {},
     "output_type": "display_data"
    },
    {
     "data": {
      "text/plain": [
       "<function __main__.plot_f_snedecor_density(n, m)>"
      ]
     },
     "execution_count": 6,
     "metadata": {},
     "output_type": "execute_result"
    }
   ],
   "source": [
    "def plot_f_snedecor_density(n, m):\n",
    "    if n <= 0 or m <= 0:\n",
    "        print(\"Los valores de 'n' y 'm' deben ser mayores que 0.\")\n",
    "        return\n",
    "    \n",
    "    x = np.linspace(0, 5, 1000)\n",
    "    y_f = f.pdf(x, dfn=n, dfd=m)\n",
    "    \n",
    "    plt.figure(figsize=(10, 6))\n",
    "    plt.plot(x, y_f, label=f'F-Snedecor Distribution Density\\n$n={n}, m={m}$')\n",
    "    plt.fill_between(x, y_f, alpha=0.2)\n",
    "    plt.title('F-Snedecor Distribution Density Function')\n",
    "    plt.xlabel('x')\n",
    "    plt.ylabel('Density')\n",
    "    plt.ylim(0, max(y_f) + 0.05)\n",
    "    plt.legend()\n",
    "    plt.grid(True)\n",
    "    plt.show()\n",
    "\n",
    "n_slider = IntSlider(value=1, min=10, max=70, step=1, description='Grados de libertad n')\n",
    "m_slider = IntSlider(value=1, min=10, max=70, step=1, description='Grados de libertad m')\n",
    "\n",
    "interact(plot_f_snedecor_density, n=n_slider, m=m_slider)"
   ]
  }
 ],
 "metadata": {
  "kernelspec": {
   "display_name": "base",
   "language": "python",
   "name": "python3"
  },
  "language_info": {
   "codemirror_mode": {
    "name": "ipython",
    "version": 3
   },
   "file_extension": ".py",
   "mimetype": "text/x-python",
   "name": "python",
   "nbconvert_exporter": "python",
   "pygments_lexer": "ipython3",
   "version": "3.9.1"
  }
 },
 "nbformat": 4,
 "nbformat_minor": 2
}
