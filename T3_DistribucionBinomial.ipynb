{
 "cells": [
  {
   "cell_type": "markdown",
   "metadata": {},
   "source": [
    "# T3: Distribución Binomial"
   ]
  },
  {
   "cell_type": "code",
   "execution_count": 1,
   "metadata": {},
   "outputs": [
    {
     "name": "stderr",
     "output_type": "stream",
     "text": [
      "c:\\Users\\nrodriguezp\\Miniconda3\\lib\\site-packages\\scipy\\__init__.py:146: UserWarning: A NumPy version >=1.16.5 and <1.23.0 is required for this version of SciPy (detected version 1.26.4\n",
      "  warnings.warn(f\"A NumPy version >={np_minversion} and <{np_maxversion}\"\n"
     ]
    }
   ],
   "source": [
    "import numpy as np\n",
    "import matplotlib.pyplot as plt\n",
    "from scipy.stats import binom\n",
    "import ipywidgets as widgets\n",
    "from IPython.display import display"
   ]
  },
  {
   "cell_type": "markdown",
   "metadata": {},
   "source": [
    "La función de probabilidad de la distribución binomial es:\n",
    "\n",
    "$P\\left[X=i\\right]=\\binom{n}{i}p^{i}q^{n-i}, \\hspace{1cm} 0\\leq i\\leq n$"
   ]
  },
  {
   "cell_type": "code",
   "execution_count": 2,
   "metadata": {},
   "outputs": [
    {
     "data": {
      "application/vnd.jupyter.widget-view+json": {
       "model_id": "099299ff647f4b529ed56a3d2f2f277b",
       "version_major": 2,
       "version_minor": 0
      },
      "text/plain": [
       "HBox(children=(IntSlider(value=10, description='n:', min=1), FloatSlider(value=0.5, description='p:', max=1.0,…"
      ]
     },
     "metadata": {},
     "output_type": "display_data"
    },
    {
     "data": {
      "application/vnd.jupyter.widget-view+json": {
       "model_id": "607f987973cf4cacb69a54c51bf549f5",
       "version_major": 2,
       "version_minor": 0
      },
      "text/plain": [
       "Output()"
      ]
     },
     "metadata": {},
     "output_type": "display_data"
    }
   ],
   "source": [
    "# Función para actualizar la gráfica\n",
    "def update_graph(n, p):\n",
    "    x = np.arange(0, n+1)\n",
    "    y = binom.pmf(x, n, p)\n",
    "    \n",
    "    plt.figure(figsize=(10, 6))\n",
    "    plt.bar(x, y, color='blue', alpha=0.7)\n",
    "    plt.title(f'Distribución Binomial (n={n}, p={p})')\n",
    "    plt.xlabel('Número de éxitos')\n",
    "    plt.ylabel('Probabilidad')\n",
    "    plt.ylim(0, 1)\n",
    "    plt.grid(True)\n",
    "    plt.show()\n",
    "\n",
    "# Crear sliders para n y p\n",
    "n_slider = widgets.IntSlider(value=10, min=1, max=100, step=1, description='n:')\n",
    "p_slider = widgets.FloatSlider(value=0.5, min=0.01, max=1.0, step=0.01, description='p:')\n",
    "\n",
    "# Conectar los sliders a la función de actualización\n",
    "ui = widgets.HBox([n_slider, p_slider])\n",
    "out = widgets.interactive_output(update_graph, {'n': n_slider, 'p': p_slider})\n",
    "\n",
    "# Mostrar los sliders y la gráfica\n",
    "display(ui, out)"
   ]
  }
 ],
 "metadata": {
  "kernelspec": {
   "display_name": "base",
   "language": "python",
   "name": "python3"
  },
  "language_info": {
   "codemirror_mode": {
    "name": "ipython",
    "version": 3
   },
   "file_extension": ".py",
   "mimetype": "text/x-python",
   "name": "python",
   "nbconvert_exporter": "python",
   "pygments_lexer": "ipython3",
   "version": "3.9.1"
  }
 },
 "nbformat": 4,
 "nbformat_minor": 2
}
