{
 "cells": [
  {
   "cell_type": "markdown",
   "metadata": {},
   "source": [
    "# T4: Distribución Log-Normal"
   ]
  },
  {
   "cell_type": "code",
   "execution_count": 1,
   "metadata": {},
   "outputs": [],
   "source": [
    "import numpy as np\n",
    "import matplotlib.pyplot as plt\n",
    "from ipywidgets import interact, FloatSlider"
   ]
  },
  {
   "cell_type": "code",
   "execution_count": 4,
   "metadata": {},
   "outputs": [
    {
     "data": {
      "application/vnd.jupyter.widget-view+json": {
       "model_id": "90e70407ec1e442ea886494f43a911c6",
       "version_major": 2,
       "version_minor": 0
      },
      "text/plain": [
       "interactive(children=(FloatSlider(value=0.0, description='Media', max=3.0, min=-3.0), FloatSlider(value=1.0, d…"
      ]
     },
     "metadata": {},
     "output_type": "display_data"
    },
    {
     "data": {
      "text/plain": [
       "<function __main__.plot_lognormal_density(mu, sigma_squared)>"
      ]
     },
     "execution_count": 4,
     "metadata": {},
     "output_type": "execute_result"
    }
   ],
   "source": [
    "\n",
    "def plot_lognormal_density(mu, sigma_squared):\n",
    "    if sigma_squared <= 0:\n",
    "        print(\"El valor de 'sigma^2' debe ser mayor que 0.\")\n",
    "        return\n",
    "    \n",
    "    sigma = np.sqrt(sigma_squared)\n",
    "    x = np.linspace(0.01, 5, 1000)  # Evitar x=0 porque la densidad no está definida en x=0\n",
    "    y = (1 / (x * sigma * np.sqrt(2 * np.pi))) * np.exp(-0.5 * ((np.log(x) - mu) / sigma) ** 2)\n",
    "    \n",
    "    plt.figure(figsize=(10, 6))\n",
    "    plt.plot(x, y, label=f'Log-Normal Distribution Density\\n$\\\\mu={mu}, \\\\sigma^2={sigma_squared}$')\n",
    "    plt.fill_between(x, y, alpha=0.2)\n",
    "    plt.title('Log-Normal Distribution Density Function')\n",
    "    plt.xlabel('x')\n",
    "    plt.ylabel('Density')\n",
    "    plt.ylim(0, 1.2)\n",
    "    plt.xlim(0,8)\n",
    "    plt.legend()\n",
    "    plt.grid(True)\n",
    "    plt.show()\n",
    "\n",
    "mu_slider = FloatSlider(value=0.0, min=-3.0, max=3.0, step=0.1, description='Media')\n",
    "sigma_squared_slider = FloatSlider(value=1.0, min=0.1, max=2.0, step=0.1, description='Varianza')\n",
    "\n",
    "interact(plot_lognormal_density, mu=mu_slider, sigma_squared=sigma_squared_slider)"
   ]
  }
 ],
 "metadata": {
  "kernelspec": {
   "display_name": "base",
   "language": "python",
   "name": "python3"
  },
  "language_info": {
   "codemirror_mode": {
    "name": "ipython",
    "version": 3
   },
   "file_extension": ".py",
   "mimetype": "text/x-python",
   "name": "python",
   "nbconvert_exporter": "python",
   "pygments_lexer": "ipython3",
   "version": "3.9.1"
  }
 },
 "nbformat": 4,
 "nbformat_minor": 2
}
