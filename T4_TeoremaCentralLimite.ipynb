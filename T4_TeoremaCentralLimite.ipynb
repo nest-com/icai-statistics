{
 "cells": [
  {
   "cell_type": "markdown",
   "metadata": {},
   "source": [
    "# T4: Teormea central del límite"
   ]
  },
  {
   "cell_type": "markdown",
   "metadata": {},
   "source": [
    "La distribución de probabilidad de la suma de variables aleatorias independientes distribuidas según una ley normal, también sigue una distribución normal. \n",
    "\n",
    "El **teorema central del límite** afirma que esto también es aproximadamente cierto si estas variables aleatorias no siguen una ley normal. Es decir, que si se suma un número suficiente de variables aleatorias independientes, la suma seguirá una distribución normal."
   ]
  },
  {
   "cell_type": "markdown",
   "metadata": {},
   "source": [
    "## Ejemplo\n",
    "Supongamos que tenemos una población de 3000 valores aleatorios entre 0 y 20. Vamos a tomar 700 muestras aleatorias de esta población, cada una conteniendo 100 valores y calcular la media de cada muestra. Según el teorema central del límite, la media muestral (suma de todas las medias calculadas para las muestras) debe seguir una distribución normal. Vamos a comprobarlo. "
   ]
  },
  {
   "cell_type": "code",
   "execution_count": 26,
   "metadata": {},
   "outputs": [
    {
     "data": {
      "image/png": "[encoded data removed]",
      "text/plain": [
       "<Figure size 432x288 with 1 Axes>"
      ]
     },
     "metadata": {
      "needs_background": "light"
     },
     "output_type": "display_data"
    }
   ],
   "source": [
    "import random\n",
    "import matplotlib.pyplot as plt\n",
    "\n",
    "# Paso 1: Generar una lista con 3000 valores entre 0 y 20\n",
    "valores = [random.uniform(0, 20) for _ in range(3000)]\n",
    "\n",
    "# Paso 2: Tomar 700 muestras de 100 valores cada una y calcular la media de cada muestra\n",
    "medias = []\n",
    "for _ in range(700):\n",
    "    muestra = random.sample(valores, 100)\n",
    "    media = sum(muestra) / len(muestra)\n",
    "    medias.append(media)\n",
    "\n",
    "# Paso 3: Representar el histograma de la lista que almacena las medias\n",
    "plt.hist(medias, bins=30, edgecolor='black')\n",
    "plt.title('Histograma de las medias de las muestras')\n",
    "plt.xlabel('Media')\n",
    "plt.ylabel('Frecuencia')\n",
    "plt.show()"
   ]
  },
  {
   "cell_type": "markdown",
   "metadata": {},
   "source": [
    "Observando el histograma, apreciamos que, efectivamente, la distribución de las medias se aproxima a una **distribución normal**"
   ]
  }
 ],
 "metadata": {
  "kernelspec": {
   "display_name": "base",
   "language": "python",
   "name": "python3"
  },
  "language_info": {
   "codemirror_mode": {
    "name": "ipython",
    "version": 3
   },
   "file_extension": ".py",
   "mimetype": "text/x-python",
   "name": "python",
   "nbconvert_exporter": "python",
   "pygments_lexer": "ipython3",
   "version": "3.9.1"
  }
 },
 "nbformat": 4,
 "nbformat_minor": 2
}
