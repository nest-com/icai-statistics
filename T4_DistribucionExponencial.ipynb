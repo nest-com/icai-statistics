{
 "cells": [
  {
   "cell_type": "markdown",
   "metadata": {},
   "source": [
    "# T4: Distribución exponencial"
   ]
  },
  {
   "cell_type": "code",
   "execution_count": 4,
   "metadata": {},
   "outputs": [],
   "source": [
    "import numpy as np\n",
    "import matplotlib.pyplot as plt\n",
    "from ipywidgets import interact, FloatSlider"
   ]
  },
  {
   "cell_type": "markdown",
   "metadata": {},
   "source": [
    "$f_{T}(t)=\\lambda\\cdot e^{-\\lambda\\cdot t}$ si $t\\geq 0$"
   ]
  },
  {
   "cell_type": "code",
   "execution_count": 2,
   "metadata": {},
   "outputs": [
    {
     "data": {
      "application/vnd.jupyter.widget-view+json": {
       "model_id": "170680fb50f04a5eac7ba50377afd883",
       "version_major": 2,
       "version_minor": 0
      },
      "text/plain": [
       "interactive(children=(FloatSlider(value=1.0, description='lambda', max=5.0, min=0.1), Output()), _dom_classes=…"
      ]
     },
     "metadata": {},
     "output_type": "display_data"
    },
    {
     "data": {
      "text/plain": [
       "<function __main__.plot_exponential_density(lmbda)>"
      ]
     },
     "execution_count": 2,
     "metadata": {},
     "output_type": "execute_result"
    }
   ],
   "source": [
    "def plot_exponential_density(lmbda):\n",
    "    if lmbda <= 0:\n",
    "        print(\"El valor de 'lambda' debe ser mayor que 0.\")\n",
    "        return\n",
    "    \n",
    "    x = np.linspace(0, 10, 1000)\n",
    "    y = lmbda * np.exp(-lmbda * x)\n",
    "    \n",
    "    plt.figure(figsize=(10, 6))\n",
    "    plt.plot(x, y, label=f'Exponential Distribution Density\\n$\\\\lambda={lmbda}$')\n",
    "    plt.fill_between(x, y, alpha=0.2)\n",
    "    plt.title('Exponential Distribution Density Function')\n",
    "    plt.xlabel('x')\n",
    "    plt.ylabel('Density')\n",
    "    plt.ylim(0, 1.2 * max(y))\n",
    "    plt.legend()\n",
    "    plt.grid(True)\n",
    "    plt.show()\n",
    "\n",
    "lmbda_slider = FloatSlider(value=1.0, min=0.1, max=5.0, step=0.1, description='lambda')\n",
    "\n",
    "interact(plot_exponential_density, lmbda=lmbda_slider)"
   ]
  },
  {
   "cell_type": "markdown",
   "metadata": {},
   "source": [
    "$F_{T}(t)=1-e^{-\\lambda\\cdot t}$ si $t\\geq 0$"
   ]
  },
  {
   "cell_type": "code",
   "execution_count": 5,
   "metadata": {},
   "outputs": [
    {
     "data": {
      "application/vnd.jupyter.widget-view+json": {
       "model_id": "4e0fcc87ea1441da88782d55969265d5",
       "version_major": 2,
       "version_minor": 0
      },
      "text/plain": [
       "interactive(children=(FloatSlider(value=1.0, description='lambda', max=5.0, min=0.1), Output()), _dom_classes=…"
      ]
     },
     "metadata": {},
     "output_type": "display_data"
    },
    {
     "data": {
      "text/plain": [
       "<function __main__.plot_exponential_cdf(lmbda)>"
      ]
     },
     "execution_count": 5,
     "metadata": {},
     "output_type": "execute_result"
    }
   ],
   "source": [
    "def plot_exponential_cdf(lmbda):\n",
    "    if lmbda <= 0:\n",
    "        print(\"El valor de 'lambda' debe ser mayor que 0.\")\n",
    "        return\n",
    "    \n",
    "    x = np.linspace(0, 10, 1000)\n",
    "    y = 1 - np.exp(-lmbda * x)\n",
    "    \n",
    "    plt.figure(figsize=(10, 6))\n",
    "    plt.plot(x, y, label=f'Exponential Distribution CDF\\n$\\\\lambda={lmbda}$')\n",
    "    plt.title('Exponential Distribution Cumulative Distribution Function')\n",
    "    plt.xlabel('x')\n",
    "    plt.ylabel('CDF')\n",
    "    plt.ylim(0, 1.2)\n",
    "    plt.legend()\n",
    "    plt.grid(True)\n",
    "    plt.show()\n",
    "\n",
    "lmbda_slider = FloatSlider(value=1.0, min=0.1, max=5.0, step=0.1, description='lambda')\n",
    "\n",
    "interact(plot_exponential_cdf, lmbda=lmbda_slider)"
   ]
  }
 ],
 "metadata": {
  "kernelspec": {
   "display_name": "base",
   "language": "python",
   "name": "python3"
  },
  "language_info": {
   "codemirror_mode": {
    "name": "ipython",
    "version": 3
   },
   "file_extension": ".py",
   "mimetype": "text/x-python",
   "name": "python",
   "nbconvert_exporter": "python",
   "pygments_lexer": "ipython3",
   "version": "3.9.1"
  }
 },
 "nbformat": 4,
 "nbformat_minor": 2
}
