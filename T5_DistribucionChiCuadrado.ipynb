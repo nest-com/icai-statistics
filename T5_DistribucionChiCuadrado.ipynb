{
 "cells": [
  {
   "cell_type": "markdown",
   "metadata": {},
   "source": [
    "# T5: Distribucion Chi-cuadrado"
   ]
  },
  {
   "cell_type": "code",
   "execution_count": 9,
   "metadata": {},
   "outputs": [],
   "source": [
    "import numpy as np\n",
    "import matplotlib.pyplot as plt\n",
    "from ipywidgets import interact, IntSlider\n",
    "import math"
   ]
  },
  {
   "cell_type": "code",
   "execution_count": 17,
   "metadata": {},
   "outputs": [
    {
     "data": {
      "application/vnd.jupyter.widget-view+json": {
       "model_id": "4fdfb5e3823041e6975692ed882340fd",
       "version_major": 2,
       "version_minor": 0
      },
      "text/plain": [
       "interactive(children=(IntSlider(value=10, description='Grados de libertad', max=60, min=10), Output()), _dom_c…"
      ]
     },
     "metadata": {},
     "output_type": "display_data"
    },
    {
     "data": {
      "text/plain": [
       "<function __main__.plot_chi_squared_density(n)>"
      ]
     },
     "execution_count": 17,
     "metadata": {},
     "output_type": "execute_result"
    }
   ],
   "source": [
    "def plot_chi_squared_density(n):\n",
    "    if n <= 0:\n",
    "        print(\"El valor de 'n' debe ser mayor que 0.\")\n",
    "        return\n",
    "    \n",
    "    x = np.linspace(0, 50, 10000)\n",
    "    y = (x**(n/2 - 1) * np.exp(-x/2)) / (2**(n/2) * math.gamma(n/2))\n",
    "    \n",
    "    plt.figure(figsize=(10, 6))\n",
    "    plt.plot(x, y, label=f'Chi-Squared Distribution Density\\n$n={n}$')\n",
    "    plt.fill_between(x, y, alpha=0.2)\n",
    "    plt.title('Chi-Squared Distribution Density Function')\n",
    "    plt.xlabel('x')\n",
    "    plt.xlim(0, 50)\n",
    "    plt.ylim(0, 0.1)\n",
    "    plt.ylabel('Density')\n",
    "    plt.legend()\n",
    "    plt.grid(True)\n",
    "    plt.show()\n",
    "\n",
    "n_slider = IntSlider(value=1, min=10, max=60, step=1, description='Grados de libertad')\n",
    "\n",
    "interact(plot_chi_squared_density, n=n_slider)"
   ]
  }
 ],
 "metadata": {
  "kernelspec": {
   "display_name": "base",
   "language": "python",
   "name": "python3"
  },
  "language_info": {
   "codemirror_mode": {
    "name": "ipython",
    "version": 3
   },
   "file_extension": ".py",
   "mimetype": "text/x-python",
   "name": "python",
   "nbconvert_exporter": "python",
   "pygments_lexer": "ipython3",
   "version": "3.9.1"
  }
 },
 "nbformat": 4,
 "nbformat_minor": 2
}
