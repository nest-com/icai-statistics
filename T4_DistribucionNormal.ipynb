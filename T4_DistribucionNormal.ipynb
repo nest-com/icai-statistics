{
 "cells": [
  {
   "cell_type": "markdown",
   "metadata": {},
   "source": [
    "# T4: Distribucion normal"
   ]
  },
  {
   "cell_type": "code",
   "execution_count": 7,
   "metadata": {},
   "outputs": [
    {
     "name": "stderr",
     "output_type": "stream",
     "text": [
      "c:\\Users\\nrodriguezp\\Miniconda3\\lib\\site-packages\\scipy\\__init__.py:146: UserWarning: A NumPy version >=1.16.5 and <1.23.0 is required for this version of SciPy (detected version 1.26.4\n",
      "  warnings.warn(f\"A NumPy version >={np_minversion} and <{np_maxversion}\"\n"
     ]
    }
   ],
   "source": [
    "import numpy as np\n",
    "import matplotlib.pyplot as plt\n",
    "from scipy.stats import norm\n",
    "from ipywidgets import interact, FloatSlider"
   ]
  },
  {
   "cell_type": "code",
   "execution_count": 6,
   "metadata": {},
   "outputs": [
    {
     "data": {
      "application/vnd.jupyter.widget-view+json": {
       "model_id": "6c5cda3e3088485fa1b6013ebcfc2150",
       "version_major": 2,
       "version_minor": 0
      },
      "text/plain": [
       "interactive(children=(FloatSlider(value=0.0, description='Media', max=10.0, min=-10.0), FloatSlider(value=1.0,…"
      ]
     },
     "metadata": {},
     "output_type": "display_data"
    },
    {
     "data": {
      "text/plain": [
       "<function __main__.plot_normal_density(mu, sigma_squared)>"
      ]
     },
     "execution_count": 6,
     "metadata": {},
     "output_type": "execute_result"
    }
   ],
   "source": [
    "def plot_normal_density(mu, sigma_squared):\n",
    "    if sigma_squared <= 0:\n",
    "        print(\"El valor de 'sigma^2' debe ser mayor que 0.\")\n",
    "        return\n",
    "    \n",
    "    sigma = np.sqrt(sigma_squared)\n",
    "    x = np.linspace(mu - 4*sigma, mu + 4*sigma, 1000)\n",
    "    y = (1 / (sigma * np.sqrt(2 * np.pi))) * np.exp(-0.5 * ((x - mu) / sigma) ** 2)\n",
    "    \n",
    "    plt.figure(figsize=(10, 6))\n",
    "    plt.plot(x, y, label=f'Normal Distribution Density\\n$\\\\mu={mu}, \\\\sigma^2={sigma_squared}$')\n",
    "    plt.fill_between(x, y, alpha=0.2)\n",
    "    plt.title('Normal Distribution Density Function')\n",
    "    plt.xlabel('x')\n",
    "    plt.ylabel('Density')\n",
    "    plt.ylim(0, 1)\n",
    "    plt.legend()\n",
    "    plt.grid(True)\n",
    "    plt.show()\n",
    "\n",
    "mu_slider = FloatSlider(value=0.0, min=-10.0, max=10.0, step=0.1, description='Media')\n",
    "sigma_squared_slider = FloatSlider(value=1.0, min=0.1, max=10.0, step=0.1, description='Varianza')\n",
    "\n",
    "interact(plot_normal_density, mu=mu_slider, sigma_squared=sigma_squared_slider)"
   ]
  },
  {
   "cell_type": "code",
   "execution_count": 10,
   "metadata": {},
   "outputs": [
    {
     "data": {
      "application/vnd.jupyter.widget-view+json": {
       "model_id": "56dcb53c69c74c7db48c2c13b49baf2f",
       "version_major": 2,
       "version_minor": 0
      },
      "text/plain": [
       "interactive(children=(FloatSlider(value=0.0, description='Media', max=10.0, min=-10.0), FloatSlider(value=1.0,…"
      ]
     },
     "metadata": {},
     "output_type": "display_data"
    },
    {
     "data": {
      "text/plain": [
       "<function __main__.plot_normal_cdf(mu, sigma_squared)>"
      ]
     },
     "execution_count": 10,
     "metadata": {},
     "output_type": "execute_result"
    }
   ],
   "source": [
    "def plot_normal_cdf(mu, sigma_squared):\n",
    "    if sigma_squared <= 0:\n",
    "        print(\"El valor de 'sigma^2' debe ser mayor que 0.\")\n",
    "        return\n",
    "    \n",
    "    sigma = np.sqrt(sigma_squared)\n",
    "    x = np.linspace(mu - 4*sigma, mu + 4*sigma, 1000)\n",
    "    y = norm.cdf(x, mu, sigma)\n",
    "    \n",
    "    plt.figure(figsize=(10, 6))\n",
    "    plt.plot(x, y, label=f'Normal Distribution CDF\\n$\\\\mu={mu}, \\\\sigma^2={sigma_squared}$')\n",
    "    plt.title('Normal Distribution Cumulative Distribution Function')\n",
    "    plt.xlabel('x')\n",
    "    plt.ylabel('CDF')\n",
    "    plt.ylim(0, 1.2)\n",
    "    plt.xlim(-15, 15)\n",
    "    plt.legend()\n",
    "    plt.grid(True)\n",
    "    plt.show()\n",
    "\n",
    "mu_slider = FloatSlider(value=0.0, min=-10.0, max=10.0, step=0.1, description='Media')\n",
    "sigma_squared_slider = FloatSlider(value=1.0, min=0.1, max=10.0, step=0.1, description='Varianza')\n",
    "\n",
    "interact(plot_normal_cdf, mu=mu_slider, sigma_squared=sigma_squared_slider)"
   ]
  }
 ],
 "metadata": {
  "kernelspec": {
   "display_name": "base",
   "language": "python",
   "name": "python3"
  },
  "language_info": {
   "codemirror_mode": {
    "name": "ipython",
    "version": 3
   },
   "file_extension": ".py",
   "mimetype": "text/x-python",
   "name": "python",
   "nbconvert_exporter": "python",
   "pygments_lexer": "ipython3",
   "version": "3.9.1"
  }
 },
 "nbformat": 4,
 "nbformat_minor": 2
}
